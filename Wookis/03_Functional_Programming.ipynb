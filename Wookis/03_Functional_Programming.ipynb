{
 "cells": [
  {
   "cell_type": "markdown",
   "metadata": {
    "slideshow": {
     "slide_type": "slide"
    }
   },
   "source": [
    "Topic 3: Functional Programming\n",
    "=====================================================\n",
    "\n",
    "What is a computer program?\n",
    "---------------------------\n",
    "\n",
    "+ Do Instruction 1\n",
    "+ Do Instruction 2\n",
    "+ Do Instruction 3\n",
    "+ Do Instruction 1\n",
    "+ Do Instruction 2\n",
    "+ Do Instruction 3\n",
    "\n",
    "This is called an _imperative_ style of programming.\n",
    "\n",
    "Functions conceptually help divide up tasks and make it easier to do things repeatedly and more concicely:\n",
    "\n",
    "+ Define Function 1\n",
    "    + Instruction 1\n",
    "    + Instruction 2\n",
    "    + Instruction 3\n",
    "+ Do Function 1\n",
    "+ Do Function 1\n",
    "\n",
    "Functions can also be used to define the program as a whole.\n",
    "\n",
    "Functional programming\n",
    "----------------------\n",
    "\n",
    "+ In an imperative programming style we are concerned with *how* the program achieves the end result. \n",
    "+ Functional programming helps us to focus more on *what* the end result is. \n",
    "+ An imperative program will describe how the **state** of the program is updated by the commands, or _statements_, and the order to execute them; \n",
    "    + in functional style the order is not important.\n",
    "\n",
    "+ Functional programming essentialy breaks the code down into smaller functions, or _expressions_, that take only input and produce an output that is not dependent on the state of the system.\n",
    "    + _The function will always produce the same output for a given input._\n",
    "\n",
    "+ Whereas an imperative program will be a series of expressions for the computer to execute, a pure functional program will be a series of definitions of the functions and a single expression that returns the result of the program.\n",
    "\n",
    "    + Intput -> Function 1 -> Function 2 -> Function 3 -> Output\n",
    "\n",
    "This part was inspired from several sources. For further, in-depth reading, you can find them here:\n",
    "\n",
    "* [http://docs.python.org/3/howto/functional.html](http://docs.python.org/3/howto/functional.html)\n",
    "* [http://www-inst.eecs.berkeley.edu/~cs61a/sp12/book/functions.html](http://www-inst.eecs.berkeley.edu/~cs61a/sp12/book/functions.html)\n",
    "\n",
    "The functional approach varies by user and this lesson will be a bit of an amalgamation.\n",
    "\n",
    "As a scientist, functional programming offers benefits in terms of clearly defining the mathematical parts of your problems, but can also place severe limitations on the ability to process data and deal with inherently stateful problems. With Python we can get the best of both worlds by applying functional paradigms where they are appropriate.\n",
    "\n",
    "Some benefits of a functional style are:\n",
    "\n",
    "+ Modularity\n",
    "    + Forces consideration of how to break up code into smaller blocks\n",
    "    + Helps to enforce DRY (Don't Repeat Yourself)\n",
    "+ Debugging and testing\n",
    "    + Each function can be tested individually\n",
    "    + Errors are easily traceable to the function level as everything else is invariant\n",
    "+ Formal provability\n",
    "    + Some of the restrictive aspects that we will encounter enable mathematical proof of the correctness of programs.\n",
    "    > Beware of bugs in the above code; I have only proved it correct, not tried it.\n",
    "    > &mdash; <cite>Donald Knuth</cite>\n",
    "\n",
    "Functions\n",
    "---------\n",
    "\n",
    "Functions have input (arguments) and return an output. A **pure function** has no effects besides returning a value:"
   ]
  },
  {
   "cell_type": "code",
   "execution_count": 7,
   "metadata": {},
   "outputs": [
    {
     "name": "stdout",
     "output_type": "stream",
     "text": [
      "3\n",
      "9\n",
      "27\n"
     ]
    },
    {
     "data": {
      "text/plain": [
       "27"
      ]
     },
     "execution_count": 7,
     "metadata": {},
     "output_type": "execute_result"
    }
   ],
   "source": [
    "#This function does a thing\n",
    "def power(x):\n",
    "    j=1\n",
    "    for i in range(x):\n",
    "        j = j*x\n",
    "        print(j)\n",
    "    y = j\n",
    "    return y\n",
    "power(3)"
   ]
  },
  {
   "cell_type": "code",
   "execution_count": 3,
   "metadata": {},
   "outputs": [
    {
     "data": {
      "text/plain": [
       "9"
      ]
     },
     "execution_count": 3,
     "metadata": {},
     "output_type": "execute_result"
    }
   ],
   "source": [
    "abs(-9)"
   ]
  },
  {
   "cell_type": "markdown",
   "metadata": {
    "slideshow": {
     "slide_type": "notes"
    }
   },
   "source": [
    "In Python the function is 'called' by the brackets (); anything in the brackets becomes the input of the function, and the function '**return**'s an output.\n",
    "\n",
    "A pure function can just be replaced by the output value, this is called _referential transparency_.\n",
    "\n",
    "Since the output can replace the function, we can chain functions as input to other functions:"
   ]
  },
  {
   "cell_type": "code",
   "execution_count": 4,
   "metadata": {},
   "outputs": [
    {
     "data": {
      "text/plain": [
       "4.4816890703380645"
      ]
     },
     "execution_count": 4,
     "metadata": {},
     "output_type": "execute_result"
    }
   ],
   "source": [
    "from math import exp, sqrt \n",
    "\n",
    "sqrt(exp(abs(-3)))"
   ]
  },
  {
   "cell_type": "code",
   "execution_count": 5,
   "metadata": {
    "slideshow": {
     "slide_type": "slide"
    }
   },
   "outputs": [
    {
     "name": "stdout",
     "output_type": "stream",
     "text": [
      "3\n",
      "3\n",
      "None\n"
     ]
    }
   ],
   "source": [
    "print(abs(-3))\n",
    "print(print(abs(-3)))"
   ]
  },
  {
   "cell_type": "markdown",
   "metadata": {},
   "source": [
    "Here, we have used the `print` *function* of Python 3. The return value of the `abs` function is passed to `print` which has the job of displaying the output. The display of the value is called a *side effect*; the print function does not return any value, so if we try to print it's output we get `None` which is the empty, or null value in Python. Functions return `None` if they have no other return value.\n",
    "\n",
    "A pure function cannot have any side effects, this includes I/O and interacting with a global state. We will need side effects later, and these will be a key component of object oriented programming, but often key components to code can benefit from a more functional approach.\n",
    "\n",
    "Functions\n",
    "---------\n",
    "\n",
    "Functions can be:\n",
    "\n",
    "* designed to take multiple values\n",
    "* require order in their arguments\n",
    "* replace the common infix notations\n",
    "* be nested"
   ]
  },
  {
   "cell_type": "code",
   "execution_count": 6,
   "metadata": {},
   "outputs": [
    {
     "data": {
      "text/plain": [
       "9.5"
      ]
     },
     "execution_count": 6,
     "metadata": {},
     "output_type": "execute_result"
    }
   ],
   "source": [
    "max(7.5, 9.5)"
   ]
  },
  {
   "cell_type": "code",
   "execution_count": 7,
   "metadata": {},
   "outputs": [
    {
     "data": {
      "text/plain": [
       "1024"
      ]
     },
     "execution_count": 7,
     "metadata": {},
     "output_type": "execute_result"
    }
   ],
   "source": [
    "pow(4, 5)"
   ]
  },
  {
   "cell_type": "code",
   "execution_count": 8,
   "metadata": {},
   "outputs": [
    {
     "data": {
      "text/plain": [
       "625"
      ]
     },
     "execution_count": 8,
     "metadata": {},
     "output_type": "execute_result"
    }
   ],
   "source": [
    "pow(5, 4)"
   ]
  },
  {
   "cell_type": "code",
   "execution_count": 9,
   "metadata": {},
   "outputs": [
    {
     "data": {
      "text/plain": [
       "-6"
      ]
     },
     "execution_count": 9,
     "metadata": {},
     "output_type": "execute_result"
    }
   ],
   "source": [
    "from operator import add, mul, sub\n",
    "\n",
    "add(mul(3, 5), sub(12, 33))"
   ]
  },
  {
   "cell_type": "markdown",
   "metadata": {
    "slideshow": {
     "slide_type": "slide"
    }
   },
   "source": [
    "Operators\n",
    "---------\n",
    "\n",
    "The standard mathematical operators are, of course, available in Python, but importing their functional counterparts from the operator mudule can make functional programming clearer and can help reduce confusion about mathematical precedence and can be passed around as first class citizens. It is up to you which notation you use, just be aware that sometimes one may be more appropriate that the other."
   ]
  },
  {
   "cell_type": "code",
   "execution_count": 10,
   "metadata": {},
   "outputs": [
    {
     "data": {
      "text/plain": [
       "-23.666666666666664"
      ]
     },
     "execution_count": 10,
     "metadata": {},
     "output_type": "execute_result"
    }
   ],
   "source": [
    "# Is it easy to tell what is going on here?\n",
    "7 + 3 * 4 - 8 ** 2 / 6 + 4 - 3 * 12"
   ]
  },
  {
   "cell_type": "code",
   "execution_count": 11,
   "metadata": {},
   "outputs": [
    {
     "data": {
      "text/plain": [
       "-23.666666666666664"
      ]
     },
     "execution_count": 11,
     "metadata": {},
     "output_type": "execute_result"
    }
   ],
   "source": [
    "from operator import add, mul, sub, truediv\n",
    "\n",
    "# How about here?\n",
    "sub(add(sub(add(7, mul(3, 4)), truediv(pow(8, 2), 6)), 4), mul(3, 12))"
   ]
  },
  {
   "cell_type": "markdown",
   "metadata": {
    "slideshow": {
     "slide_type": "slide"
    }
   },
   "source": [
    "NOTE:  Division with integers is something that has changed between Python 2 and 3.  In Python 2, division with two integers will give an integer as the result where the fraction is truncated and rounded to the smallest whole number:\n",
    "\n",
    "    >>> 1/2       \n",
    "    0\n",
    "    \n",
    "The above is called floor division.  In Python 2, if one or two of the numbers are floats(decimals), then the answer will be a float.\n",
    "\n",
    "    >>> 1.0/2.0\n",
    "    0.5\n",
    "\n",
    "In Python 3, division involving two integers will give a float, which is called true division."
   ]
  },
  {
   "cell_type": "code",
   "execution_count": 12,
   "metadata": {},
   "outputs": [
    {
     "data": {
      "text/plain": [
       "0.5"
      ]
     },
     "execution_count": 12,
     "metadata": {},
     "output_type": "execute_result"
    }
   ],
   "source": [
    "1/2"
   ]
  },
  {
   "cell_type": "code",
   "execution_count": 13,
   "metadata": {},
   "outputs": [
    {
     "data": {
      "text/plain": [
       "1.0"
      ]
     },
     "execution_count": 13,
     "metadata": {},
     "output_type": "execute_result"
    }
   ],
   "source": [
    "2/2"
   ]
  },
  {
   "cell_type": "markdown",
   "metadata": {},
   "source": [
    "In Python 3, floor division can be accessed with a new operator '//' "
   ]
  },
  {
   "cell_type": "code",
   "execution_count": 14,
   "metadata": {},
   "outputs": [
    {
     "data": {
      "text/plain": [
       "0"
      ]
     },
     "execution_count": 14,
     "metadata": {},
     "output_type": "execute_result"
    }
   ],
   "source": [
    "1//2"
   ]
  },
  {
   "cell_type": "markdown",
   "metadata": {
    "slideshow": {
     "slide_type": "slide"
    }
   },
   "source": [
    "Defining functions\n",
    "------------------\n",
    "\n",
    "Python defines a number of functions, and the standard operators are available as functions from the operator module, as shown above as well as functions from many other modules. To be useful, we also need to be able to define our own functions, which is done with the `def` statement:"
   ]
  },
  {
   "cell_type": "code",
   "execution_count": 15,
   "metadata": {},
   "outputs": [
    {
     "name": "stdout",
     "output_type": "stream",
     "text": [
      "35.0\n"
     ]
    }
   ],
   "source": [
    "def pythag(a, b):\n",
    "    \"\"\"Finds the Hypotenuse of two numbers\"\"\"\n",
    "    c = (a ** 2 + b ** 2) ** (1/2)\n",
    "    return c\n",
    "d = pythag(3,4) * 7\n",
    "print(d)"
   ]
  },
  {
   "cell_type": "code",
   "execution_count": 16,
   "metadata": {},
   "outputs": [],
   "source": [
    "def square(number):\n",
    "    \"\"\"Return the number multiplied by itself.\"\"\"\n",
    "    return mul(number, number)\n",
    "\n",
    "def square_square(number):\n",
    "    \"\"\"Calculate the square of the square of a number.\"\"\"\n",
    "    return square(square(number))"
   ]
  },
  {
   "cell_type": "markdown",
   "metadata": {
    "slideshow": {
     "slide_type": "-"
    }
   },
   "source": [
    "We should always choose a function_name that is descriptive, and document things properly (coming later). The colon starts a block which is defined by the indentation, and we return the result of the function."
   ]
  },
  {
   "cell_type": "code",
   "execution_count": 17,
   "metadata": {},
   "outputs": [
    {
     "data": {
      "text/plain": [
       "1664966416"
      ]
     },
     "execution_count": 17,
     "metadata": {},
     "output_type": "execute_result"
    }
   ],
   "source": [
    "square_square(202)"
   ]
  },
  {
   "cell_type": "markdown",
   "metadata": {
    "slideshow": {
     "slide_type": "slide"
    }
   },
   "source": [
    "Be careful to avoid functions that depend on global conditions as these reduce clarity for someone reading or using your code."
   ]
  },
  {
   "cell_type": "code",
   "execution_count": 18,
   "metadata": {},
   "outputs": [
    {
     "name": "stdout",
     "output_type": "stream",
     "text": [
      "17\n",
      "2\n"
     ]
    }
   ],
   "source": [
    "# try to restrict globals to CONSTANT values like physical constants\n",
    "global_thing = 12\n",
    "\n",
    "def bad_function(number):\n",
    "    \"\"\"A terrible function that gives you different answers depending on a global condition.\"\"\"\n",
    "    return add(global_thing, number)\n",
    "\n",
    "print(bad_function(5))\n",
    "\n",
    "global_thing = -3\n",
    "\n",
    "# pure functional code produces the same output for identical input\n",
    "# this snippet is BAD and does not!\n",
    "print(bad_function(5))"
   ]
  },
  {
   "cell_type": "markdown",
   "metadata": {
    "slideshow": {
     "slide_type": "slide"
    }
   },
   "source": [
    "Scope\n",
    "-----\n",
    "\n",
    "Scope defines the region of the code where a name is defined, and is closeley related to blocks:"
   ]
  },
  {
   "cell_type": "code",
   "execution_count": 20,
   "metadata": {},
   "outputs": [
    {
     "name": "stdout",
     "output_type": "stream",
     "text": [
      "global_variable, in function: foo\n",
      "another_global, in function: bar\n",
      "local_variable, in function: baz\n",
      "another_global, unchanged in outer_scope: foo_too\n"
     ]
    }
   ],
   "source": [
    "# global_variables defined in the outer scope\n",
    "global_variable = 'foo'\n",
    "another_global = 'foo_too'\n",
    "\n",
    "def potato():\n",
    "    \"\"\"Demonstration of scoped varibles.\"\"\"\n",
    "    # Scope can be any block, such as a definition or a loop\n",
    "    \n",
    "    # variables are accessible to any scope within them\n",
    "    print(\"global_variable, in function: {}\".format(global_variable))\n",
    "    \n",
    "    # reassigning within a local scope creates a new local variable \n",
    "    # that shadows the outer one\n",
    "    another_global = 'bar'\n",
    "    print(\"another_global, in function: {}\".format(another_global))\n",
    "    \n",
    "    # local variables are only available in the scope that they are defined in\n",
    "    local_variable = 'baz'\n",
    "    \n",
    "    print(\"local_variable, in function: {}\".format(local_variable))\n",
    "\n",
    "    def inner_function():\n",
    "        \"\"\"A closure.\"\"\"\n",
    "        # a function within a function that contains a reference to \n",
    "        # an outer local variable is called a closure\n",
    "        closured_variable = local_variable\n",
    "\n",
    "potato()\n",
    "\n",
    "print(\"another_global, unchanged in outer_scope: {}\".format(another_global))\n",
    "\n",
    "# try uncommenting the next line and 'rerunning the cell'\n",
    "#print(\"local_variable, in outer_scope: {}\".format(local_variable))\n",
    "# This should result in an error:\n",
    "#       NameError: name 'local_variable' is not defined\n",
    "# This is because the variable is not defined outside of the function or it's scope."
   ]
  },
  {
   "cell_type": "markdown",
   "metadata": {
    "slideshow": {
     "slide_type": "slide"
    }
   },
   "source": [
    "Properties of functions\n",
    "-----------------------\n",
    "\n",
    "Functions are an abstraction, this means that whatever calls your function shouldn't care about what goes on inside it. This keeps the code partitioned, and allows you to freely update the inner workings without breaking other parts that depend on the output of the function."
   ]
  },
  {
   "cell_type": "code",
   "execution_count": 17,
   "metadata": {},
   "outputs": [
    {
     "data": {
      "text/plain": [
       "144"
      ]
     },
     "execution_count": 17,
     "metadata": {},
     "output_type": "execute_result"
    }
   ],
   "source": [
    "def square(number):\n",
    "    \"\"\"Multiply the number by itself.\"\"\"\n",
    "    return add(mul(sub(number, 1), number), number)\n",
    "\n",
    "square(12)"
   ]
  },
  {
   "cell_type": "markdown",
   "metadata": {
    "slideshow": {
     "slide_type": "slide"
    }
   },
   "source": [
    "Functions are '_first class_' in Python (a prerequisite of functional programming) which means you can return them from another function or pass them around as arguments. They act like everything else."
   ]
  },
  {
   "cell_type": "code",
   "execution_count": 18,
   "metadata": {},
   "outputs": [],
   "source": [
    "def powerer(power):\n",
    "    \"\"\"Create a function that will raise numbers to a specific power.\"\"\"\n",
    "    def new_pow(number):\n",
    "        \"\"\"Raise number to the power %s.\"\"\" % power\n",
    "        return pow(number, power)\n",
    "    return new_pow"
   ]
  },
  {
   "cell_type": "code",
   "execution_count": 19,
   "metadata": {},
   "outputs": [],
   "source": [
    "squarer = powerer(2)"
   ]
  },
  {
   "cell_type": "code",
   "execution_count": 20,
   "metadata": {},
   "outputs": [
    {
     "data": {
      "text/plain": [
       "400"
      ]
     },
     "execution_count": 20,
     "metadata": {},
     "output_type": "execute_result"
    }
   ],
   "source": [
    "squarer(20)"
   ]
  },
  {
   "cell_type": "markdown",
   "metadata": {},
   "source": [
    "The `powerer` function here gives a *parital* function as we have fixed one of the arguments to the `pow` function. This is similar to a functional programming technique known as currying. Currying is not so useful in Python, so we'll skip it; feel free to look it up though.\n",
    "\n",
    "`powerer` also demonstrates a *closure*, this is where the function that it creates, `new_pow` knows about what created it, because the `power` argument is carried from the outer scope.\n",
    "\n",
    "If we find ourselves doing the same thing repeatedly with different functions, we can define functions that take functions as arguments and will do that for us."
   ]
  },
  {
   "cell_type": "code",
   "execution_count": 21,
   "metadata": {},
   "outputs": [],
   "source": [
    "def double_functionate(function, argument):\n",
    "    \"\"\"Apply the function twice to the argument.\"\"\"\n",
    "    return function(function(argument))"
   ]
  },
  {
   "cell_type": "code",
   "execution_count": 22,
   "metadata": {},
   "outputs": [
    {
     "data": {
      "text/plain": [
       "1185921"
      ]
     },
     "execution_count": 22,
     "metadata": {},
     "output_type": "execute_result"
    }
   ],
   "source": [
    "double_functionate(squarer, 33)"
   ]
  },
  {
   "cell_type": "markdown",
   "metadata": {
    "slideshow": {
     "slide_type": "slide"
    }
   },
   "source": [
    "Recursion\n",
    "---------\n",
    "\n",
    "The traditional first program for a language in programming, the \"Hello, World!\", is not something that you can do in pure functional programming. Instead we could look at a factorial, this implementation relies on recursion, a common style in functional programming.\n",
    "\n",
    "Recursion is where a function calls itself."
   ]
  },
  {
   "cell_type": "code",
   "execution_count": 23,
   "metadata": {},
   "outputs": [
    {
     "data": {
      "text/plain": [
       "5040"
      ]
     },
     "execution_count": 23,
     "metadata": {},
     "output_type": "execute_result"
    }
   ],
   "source": [
    "from operator import sub, mul, eq\n",
    " \n",
    "def factorial(n):\n",
    "    \"\"\"Recursive factorial i.e. n! = 1 x 2 x 3....x n\"\"\"\n",
    "    if eq(n, 0):\n",
    "        return 1\n",
    "    else:\n",
    "        # The function calls itself\n",
    "        return mul(n, factorial(sub(n, 1)))\n",
    "\n",
    "factorial(7)"
   ]
  },
  {
   "cell_type": "markdown",
   "metadata": {
    "slideshow": {
     "slide_type": "slide"
    }
   },
   "source": [
    "Notice in the if statement we are using the `eq` function. Most programmers including ourselves would use `if n==0:`, but in keeping with the functional programming of this topic we use the `if eq(n,0):` instead. \n",
    "\n",
    "Lambdas\n",
    "-------\n",
    "\n",
    "A lambda is a small anonymous function (one without a name) that can help you to put code near to where the logic requires it.  However, they can be hard to interpret and there is nothing that you can do with lambdas that you cannot do without them.  A lambda function can take any number of arguments, but can only have one expression. \n",
    "   `\n",
    "    #the expression below gives you a function that calculates 3*x-2*y\n",
    "    lambda x, y: sub(mul(3,x),mul(2,y))`  \n",
    "    \n",
    "You define arguments on the left and the expression (or operators) after the colon."
   ]
  },
  {
   "cell_type": "code",
   "execution_count": 24,
   "metadata": {},
   "outputs": [
    {
     "data": {
      "text/plain": [
       "1"
      ]
     },
     "execution_count": 24,
     "metadata": {},
     "output_type": "execute_result"
    }
   ],
   "source": [
    "bound_lambda = lambda x, y: sub(mul(3,x),mul(2,y))\n",
    "\n",
    "bound_lambda(3, 4)"
   ]
  },
  {
   "cell_type": "markdown",
   "metadata": {},
   "source": [
    "In the above example, we defined the `bound_lambda` function in a single line without using the *def* statement.\n",
    "\n",
    "The power of lamdba functions and why people like to use them is that you can put them inside other functions."
   ]
  },
  {
   "cell_type": "code",
   "execution_count": 25,
   "metadata": {},
   "outputs": [
    {
     "data": {
      "text/plain": [
       "30"
      ]
     },
     "execution_count": 25,
     "metadata": {},
     "output_type": "execute_result"
    }
   ],
   "source": [
    "double_functionate(lambda x: x + 10, 10)    #this function was defined earlier"
   ]
  },
  {
   "cell_type": "markdown",
   "metadata": {
    "slideshow": {
     "slide_type": "slide"
    }
   },
   "source": [
    "Iterators\n",
    "---------\n",
    "\n",
    "Functional programs often deal with *streams* of data. A collection of data can be a finite set or an infinite sequence. Python lists, dictionaries and tuples are all iterable objects in the sense that one can traverse through all values.   All of those objects have a `iter()` method which is used to initialize the iterator and a `next()` method:  \n",
    "\n"
   ]
  },
  {
   "cell_type": "code",
   "execution_count": 26,
   "metadata": {},
   "outputs": [
    {
     "data": {
      "text/plain": [
       "1"
      ]
     },
     "execution_count": 26,
     "metadata": {},
     "output_type": "execute_result"
    }
   ],
   "source": [
    "items = [1, 2, 7.4, \"stuff\"]\n",
    "it = iter(items)\n",
    "next(it)"
   ]
  },
  {
   "cell_type": "code",
   "execution_count": 27,
   "metadata": {},
   "outputs": [
    {
     "data": {
      "text/plain": [
       "2"
      ]
     },
     "execution_count": 27,
     "metadata": {},
     "output_type": "execute_result"
    }
   ],
   "source": [
    "next(it)"
   ]
  },
  {
   "cell_type": "markdown",
   "metadata": {},
   "source": [
    "The list, enclosed by square brackets, is one of the most useful datatypes in Python, but it can be dangerous from a functional point of view. In pure functional programming there are no mutable types and we should not be modifying lists in place, a function should return a new list. Mutability is a key component in object-oriented programming, as we will see, but we lose referential transparency. In Python functions our data can be modified in undocumented ways, so always ensure that it is clear in your code what is going on. Unfortuantely it is easy to do bad things with mutable data in Python.\n",
    "\n",
    "Iterators in Python are not widely used to iterate through lists and tuples, unless one wants to adhere to functional programming principles. Most Python programmers instead use list comprehensions which is the next topic."
   ]
  },
  {
   "cell_type": "markdown",
   "metadata": {
    "slideshow": {
     "slide_type": "slide"
    }
   },
   "source": [
    "List comprehensions\n",
    "-------------------\n",
    "\n",
    "Python has list comprehensions which achieve the same thing as iterators, but in a more versatile manner (and in some eyes a clearer manner). If you have gone through the preliminary Python tutorials, you will already be familiar with the `for` - `in` constructions that are used in place of iterators."
   ]
  },
  {
   "cell_type": "code",
   "execution_count": 28,
   "metadata": {},
   "outputs": [
    {
     "data": {
      "text/plain": [
       "[0, 1, 4, 9, 16, 25, 36, 49, 64, 81]"
      ]
     },
     "execution_count": 28,
     "metadata": {},
     "output_type": "execute_result"
    }
   ],
   "source": [
    "[square(x) for x in range(10)]"
   ]
  },
  {
   "cell_type": "code",
   "execution_count": 29,
   "metadata": {},
   "outputs": [
    {
     "data": {
      "text/plain": [
       "[0, 2, 4, 6, 8]"
      ]
     },
     "execution_count": 29,
     "metadata": {},
     "output_type": "execute_result"
    }
   ],
   "source": [
    "from operator import mod, eq\n",
    "[x for x in range(10) if eq(mod(x, 2), 0)]"
   ]
  },
  {
   "cell_type": "code",
   "execution_count": 30,
   "metadata": {},
   "outputs": [
    {
     "data": {
      "text/plain": [
       "10"
      ]
     },
     "execution_count": 30,
     "metadata": {},
     "output_type": "execute_result"
    }
   ],
   "source": [
    "sum(range(5))"
   ]
  },
  {
   "cell_type": "code",
   "execution_count": 4,
   "metadata": {
    "scrolled": true
   },
   "outputs": [
    {
     "name": "stdout",
     "output_type": "stream",
     "text": [
      "Apples0\n",
      "Apples1\n",
      "Apples2\n",
      "Apples3\n",
      "Apples4\n"
     ]
    }
   ],
   "source": [
    "for x in range(5):\n",
    "    print('Apples'+str(x))"
   ]
  },
  {
   "cell_type": "code",
   "execution_count": 32,
   "metadata": {},
   "outputs": [
    {
     "name": "stdout",
     "output_type": "stream",
     "text": [
      "['h', 'k', 'p', 'a', 'c']\n"
     ]
    }
   ],
   "source": [
    "wordlist = [\"hello\", \"kitty\", \"pugs\", \"are\", \"cute\"]\n",
    "items = [word[0] for word in wordlist]\n",
    "print(items)"
   ]
  },
  {
   "cell_type": "markdown",
   "metadata": {
    "slideshow": {
     "slide_type": "slide"
    }
   },
   "source": [
    "Generator expressions\n",
    "---------------------\n",
    "\n",
    "Similar to the list comprehension is the generator expression. A generator is a function that returns an object (iterator) which we can iterate over (one value at a time). Using round brackets in a list comprehension creates a _lazy_ generator instead."
   ]
  },
  {
   "cell_type": "code",
   "execution_count": 33,
   "metadata": {},
   "outputs": [
    {
     "data": {
      "text/plain": [
       "<generator object <genexpr> at 0x00000286784C69A8>"
      ]
     },
     "execution_count": 33,
     "metadata": {},
     "output_type": "execute_result"
    }
   ],
   "source": [
    "(square(x) for x in range(5))"
   ]
  },
  {
   "cell_type": "markdown",
   "metadata": {},
   "source": [
    "In the above, rather than produce a list, the list comprehension returns an generator object that does not start execution immediately. It is only evaluated as needed."
   ]
  },
  {
   "cell_type": "code",
   "execution_count": 34,
   "metadata": {},
   "outputs": [
    {
     "data": {
      "text/plain": [
       "30"
      ]
     },
     "execution_count": 34,
     "metadata": {},
     "output_type": "execute_result"
    }
   ],
   "source": [
    "sum(_)   # The '_' refers to the previous expression and only\n",
    "         # works in interactive mode. i.e. don't use in your codes"
   ]
  },
  {
   "cell_type": "markdown",
   "metadata": {
    "slideshow": {
     "slide_type": "slide"
    }
   },
   "source": [
    "The result still iterates, as if we put a list into the `sum` function, but the generator was only evaluated when the sum function was called.   Generators can be useful when we have large (or infinite) datasets, where memory usage can be excessive. \n",
    "\n",
    "Lazy evaluation is possible when `def`ining functions by `yield`ing values rather than `return`ing them. Lazy evaluation means that the values are only calculated as they are needed. "
   ]
  },
  {
   "cell_type": "code",
   "execution_count": 35,
   "metadata": {},
   "outputs": [],
   "source": [
    "def square_range(stop):\n",
    "    \"\"\"Return squares of numbers from 1 to stop.\"\"\"\n",
    "    for x in range(stop):\n",
    "        yield square(add(x, 1))"
   ]
  },
  {
   "cell_type": "code",
   "execution_count": 36,
   "metadata": {},
   "outputs": [],
   "source": [
    "a = square_range(10)"
   ]
  },
  {
   "cell_type": "code",
   "execution_count": 37,
   "metadata": {},
   "outputs": [
    {
     "data": {
      "text/plain": [
       "1"
      ]
     },
     "execution_count": 37,
     "metadata": {},
     "output_type": "execute_result"
    }
   ],
   "source": [
    "next(a)"
   ]
  },
  {
   "cell_type": "code",
   "execution_count": 38,
   "metadata": {},
   "outputs": [
    {
     "data": {
      "text/plain": [
       "4"
      ]
     },
     "execution_count": 38,
     "metadata": {},
     "output_type": "execute_result"
    }
   ],
   "source": [
    "next(a)"
   ]
  },
  {
   "cell_type": "code",
   "execution_count": 39,
   "metadata": {},
   "outputs": [
    {
     "data": {
      "text/plain": [
       "[9, 16, 25, 36, 49, 64, 81, 100]"
      ]
     },
     "execution_count": 39,
     "metadata": {},
     "output_type": "execute_result"
    }
   ],
   "source": [
    "list(a)"
   ]
  },
  {
   "cell_type": "markdown",
   "metadata": {
    "slideshow": {
     "slide_type": "slide"
    }
   },
   "source": [
    "Notice in the last expression, the generator `a` did not create a list starting from 1, it continued from its last position.\n",
    "\n",
    "Generators also allow us to create infinite sequences."
   ]
  },
  {
   "cell_type": "code",
   "execution_count": 40,
   "metadata": {},
   "outputs": [],
   "source": [
    "def repeat_forever(thing):\n",
    "    \"\"\"Repeat the same thing repeatedly.\"\"\"\n",
    "    while True:\n",
    "        yield thing"
   ]
  },
  {
   "cell_type": "code",
   "execution_count": 41,
   "metadata": {},
   "outputs": [],
   "source": [
    "# If you uncomment the following, it will never complete and your machine will not be happy\n",
    "#sum(repeat_forever(1))"
   ]
  },
  {
   "cell_type": "markdown",
   "metadata": {
    "slideshow": {
     "slide_type": "slide"
    }
   },
   "source": [
    "Itertools\n",
    "---------\n",
    "\n",
    "The `itertools` module has many functions for dealing with iterators and creating new generators in an efficient manner. The documentation for the itertools module is excellent and each function is documented with a pure python implementation (although the actual implementation is probably more optimised), see [https://docs.python.org/3/library/itertools.html](https://docs.python.org/3/library/itertools.html) for the details. The end of the documentation page also gives many examples that can be cribbed from."
   ]
  },
  {
   "cell_type": "code",
   "execution_count": 42,
   "metadata": {},
   "outputs": [],
   "source": [
    "import itertools"
   ]
  },
  {
   "cell_type": "code",
   "execution_count": 43,
   "metadata": {},
   "outputs": [
    {
     "data": {
      "text/plain": [
       "[1, 2, 3, 10, 20, 30]"
      ]
     },
     "execution_count": 43,
     "metadata": {},
     "output_type": "execute_result"
    }
   ],
   "source": [
    "list(itertools.chain([1,2,3], [10,20,30]))"
   ]
  },
  {
   "cell_type": "markdown",
   "metadata": {
    "slideshow": {
     "slide_type": "slide"
    }
   },
   "source": [
    "In many occasions it is useful to iterate over several sequences at the same time and combine them in some way."
   ]
  },
  {
   "cell_type": "code",
   "execution_count": 44,
   "metadata": {},
   "outputs": [
    {
     "data": {
      "text/plain": [
       "[(0, 'L'), (1, 'O'), (2, 'L'), (3, 'L'), (4, 'O'), (5, 'L'), (6, 'L')]"
      ]
     },
     "execution_count": 44,
     "metadata": {},
     "output_type": "execute_result"
    }
   ],
   "source": [
    "list(zip(range(7), itertools.cycle('LOL')))"
   ]
  },
  {
   "cell_type": "markdown",
   "metadata": {
    "slideshow": {
     "slide_type": "slide"
    }
   },
   "source": [
    "In contrast to some other languages, in Python you iterate over the *items* in an iterable, but you can index them as necessary. Note that everything is *zero-based* in Python.\n",
    "\n",
    "    struct foo fooarr[10];\n",
    "\n",
    "    for(i = 0; i < sizeof(fooarr) / sizeof(struct foo); i++)\n",
    "    {\n",
    "      do_something(fooarr[i].data);\n",
    "    }"
   ]
  },
  {
   "cell_type": "code",
   "execution_count": 45,
   "metadata": {},
   "outputs": [
    {
     "data": {
      "text/plain": [
       "[(0, (0, 1, 2)),\n",
       " (1, (0, 2, 1)),\n",
       " (2, (1, 0, 2)),\n",
       " (3, (1, 2, 0)),\n",
       " (4, (2, 0, 1)),\n",
       " (5, (2, 1, 0))]"
      ]
     },
     "execution_count": 45,
     "metadata": {},
     "output_type": "execute_result"
    }
   ],
   "source": [
    "list(enumerate(itertools.permutations(range(3))))"
   ]
  },
  {
   "cell_type": "code",
   "execution_count": 46,
   "metadata": {},
   "outputs": [
    {
     "name": "stdout",
     "output_type": "stream",
     "text": [
      "[0, 'Earl Grey']\n",
      "[1, 'English Breakfast']\n",
      "[2, 'Yorkshire']\n",
      "[3, 'Royal Blend']\n"
     ]
    }
   ],
   "source": [
    "for index, item in enumerate([\"Earl Grey\", \"English Breakfast\", \"Yorkshire\", \"Royal Blend\"]):\n",
    "    print([index, item])"
   ]
  },
  {
   "cell_type": "markdown",
   "metadata": {
    "slideshow": {
     "slide_type": "slide"
    }
   },
   "source": [
    "Slicing\n",
    "-------\n",
    "\n",
    "Another aspect of lists is slicing, using square brackets, which is accessing subsets of elements or the individual elements. Slicing can also be used in a functional manner and made to return generator expressions and the `itertools` module lets you work with infinte sequences too."
   ]
  },
  {
   "cell_type": "code",
   "execution_count": 47,
   "metadata": {},
   "outputs": [
    {
     "data": {
      "text/plain": [
       "[4, 5, 6, 7, 8, 9]"
      ]
     },
     "execution_count": 47,
     "metadata": {},
     "output_type": "execute_result"
    }
   ],
   "source": [
    "list(range(10))[4:10]"
   ]
  },
  {
   "cell_type": "code",
   "execution_count": 48,
   "metadata": {},
   "outputs": [
    {
     "data": {
      "text/plain": [
       "[10, 11, 12, 13, 14, 15, 16, 17, 18, 19]"
      ]
     },
     "execution_count": 48,
     "metadata": {},
     "output_type": "execute_result"
    }
   ],
   "source": [
    "list(itertools.islice(itertools.count(10), 10))"
   ]
  },
  {
   "cell_type": "code",
   "execution_count": 49,
   "metadata": {},
   "outputs": [
    {
     "data": {
      "text/plain": [
       "{'A': 1, 'B': 2, 'C': 3, 'D': 4}"
      ]
     },
     "execution_count": 49,
     "metadata": {},
     "output_type": "execute_result"
    }
   ],
   "source": [
    "dict(zip(\"ABCD\", [1,2,3,4]))"
   ]
  },
  {
   "cell_type": "markdown",
   "metadata": {
    "slideshow": {
     "slide_type": "skip"
    }
   },
   "source": [
    "--  \n",
    "\n",
    "© Tom Daff and Tom Woo"
   ]
  }
 ],
 "metadata": {
  "kernelspec": {
   "display_name": "Python 3",
   "language": "python",
   "name": "python3"
  },
  "language_info": {
   "codemirror_mode": {
    "name": "ipython",
    "version": 3
   },
   "file_extension": ".py",
   "mimetype": "text/x-python",
   "name": "python",
   "nbconvert_exporter": "python",
   "pygments_lexer": "ipython3",
   "version": "3.7.2"
  }
 },
 "nbformat": 4,
 "nbformat_minor": 2
}
